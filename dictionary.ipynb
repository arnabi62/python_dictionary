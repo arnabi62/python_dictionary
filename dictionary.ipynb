{
 "cells": [
  {
   "cell_type": "code",
   "execution_count": 2,
   "metadata": {},
   "outputs": [
    {
     "name": "stdout",
     "output_type": "stream",
     "text": [
      "4\n",
      "on\n",
      "no\n",
      "ad\n",
      "be\n",
      "66\n"
     ]
    }
   ],
   "source": [
    "d={2:('a','b','c'),3:('d','e','f'),4:('g','h','i'),5:('j','k','l'),6:('m','n','o'),7:('p','q','r','s'),8:('t','u','v'),9:('w','x','y','z')}\n",
    "t=[]\n",
    "for _ in range(int(input())):\n",
    "    s=tuple(input())\n",
    "    q=''\n",
    "    for i in s:\n",
    "        for k,v in d.items():\n",
    "            if i in v:\n",
    "                q=q+str(k)\n",
    "    t = t + [int(q)]\n",
    "t.sort(reverse=True)\n",
    "print(max(t,key=t.count))"
   ]
  },
  {
   "cell_type": "code",
   "execution_count": null,
   "metadata": {},
   "outputs": [],
   "source": []
  }
 ],
 "metadata": {
  "kernelspec": {
   "display_name": "Python 3",
   "language": "python",
   "name": "python3"
  },
  "language_info": {
   "codemirror_mode": {
    "name": "ipython",
    "version": 3
   },
   "file_extension": ".py",
   "mimetype": "text/x-python",
   "name": "python",
   "nbconvert_exporter": "python",
   "pygments_lexer": "ipython3",
   "version": "3.6.5"
  }
 },
 "nbformat": 4,
 "nbformat_minor": 2
}
